{
 "cells": [
  {
   "cell_type": "markdown",
   "metadata": {},
   "source": [
    "Usaremos a API SerpApi, que é usada para realizar o web scraping em engines de buscas(neste caso o Google). Essa API lida com as dificuldades na coleta de dados dessas ferramentas de busca, como conteúdo dinâmico, proxies e CAPTCHAs."
   ]
  },
  {
   "cell_type": "code",
   "execution_count": 1,
   "metadata": {},
   "outputs": [],
   "source": [
    "import serpapi\n",
    "import os\n",
    "import time\n",
    "import pandas as pd\n",
    "import numpy as np\n",
    "\n",
    "#criando um objeto client com a chave da api para realizer as pesquisas\n",
    "api_key = ''\n",
    "client = serpapi.Client(api_key=api_key)"
   ]
  },
  {
   "cell_type": "code",
   "execution_count": 2,
   "metadata": {},
   "outputs": [],
   "source": [
    "#configurando a pesquisa que será realizada \n",
    "results = client.search({\n",
    "    'engine':'google_maps', #define a api que será usada\n",
    "    'type':'search', #define o tipo de busca\n",
    "    'q':'the ship London' #define o termo que será buscado\n",
    "})"
   ]
  },
  {
   "cell_type": "code",
   "execution_count": 3,
   "metadata": {},
   "outputs": [
    {
     "name": "stdout",
     "output_type": "stream",
     "text": [
      "ChIJkxWeZ30PdkgRZiJi42dFC8o\n"
     ]
    }
   ],
   "source": [
    "#precisamos pegar o id do estabalecimento que analisaremos\n",
    "place_info = results.get(\"local_results\")\n",
    "place_id = place_info[0].get('place_id')\n",
    "print(place_id)"
   ]
  },
  {
   "cell_type": "code",
   "execution_count": 4,
   "metadata": {},
   "outputs": [
    {
     "name": "stdout",
     "output_type": "stream",
     "text": [
      "108\n"
     ]
    }
   ],
   "source": [
    "NUM_REVIEWS = 100 #definindo o número de reviews\n",
    "\n",
    "#definindo novos parâmetros para a pesquisa utilizando a nova api e o código do estabalecimento\n",
    "params = {\n",
    "    'engine':'google_maps_reviews',\n",
    "    'type':'search',\n",
    "    'place_id': place_id\n",
    "}\n",
    "\n",
    "reviews = []\n",
    "\n",
    "while len(reviews) < NUM_REVIEWS:\n",
    "    reviews_results = client.search(params)\n",
    "\n",
    "    if \"reviews\" in reviews_results:\n",
    "        r = reviews_results.get(\"reviews\")\n",
    "        reviews.extend(r) \n",
    "    \n",
    "    if \"serpapi_pagination\" in reviews_results and \"next\" in reviews_results[\"serpapi_pagination\"]:\n",
    "        params[\"next_page_token\"] = reviews_results[\"serpapi_pagination\"][\"next_page_token\"] #caso exista uma nova página, adicionaremos o token aos parâmetros para ela ser acessada em seguida\n",
    "    else:\n",
    "        break #caso não exista uma nova página, o looping é encerrado\n",
    "\n",
    "    time.sleep(2)\n",
    "\n",
    "print(len(reviews))"
   ]
  },
  {
   "cell_type": "code",
   "execution_count": 5,
   "metadata": {},
   "outputs": [
    {
     "data": {
      "text/html": [
       "<div>\n",
       "<style scoped>\n",
       "    .dataframe tbody tr th:only-of-type {\n",
       "        vertical-align: middle;\n",
       "    }\n",
       "\n",
       "    .dataframe tbody tr th {\n",
       "        vertical-align: top;\n",
       "    }\n",
       "\n",
       "    .dataframe thead th {\n",
       "        text-align: right;\n",
       "    }\n",
       "</style>\n",
       "<table border=\"1\" class=\"dataframe\">\n",
       "  <thead>\n",
       "    <tr style=\"text-align: right;\">\n",
       "      <th></th>\n",
       "      <th>rating</th>\n",
       "      <th>text</th>\n",
       "    </tr>\n",
       "  </thead>\n",
       "  <tbody>\n",
       "    <tr>\n",
       "      <th>0</th>\n",
       "      <td>4.0</td>\n",
       "      <td>Went on a sunny day for a Sunday roast with fr...</td>\n",
       "    </tr>\n",
       "    <tr>\n",
       "      <th>1</th>\n",
       "      <td>5.0</td>\n",
       "      <td>I recently visited **The Ship**, a charming sp...</td>\n",
       "    </tr>\n",
       "    <tr>\n",
       "      <th>2</th>\n",
       "      <td>4.0</td>\n",
       "      <td>Stopped by for a pint and a quick lunch. It's ...</td>\n",
       "    </tr>\n",
       "    <tr>\n",
       "      <th>3</th>\n",
       "      <td>5.0</td>\n",
       "      <td>A solid pub on the bank of the Thames you can ...</td>\n",
       "    </tr>\n",
       "    <tr>\n",
       "      <th>4</th>\n",
       "      <td>5.0</td>\n",
       "      <td>Amazing summer place to have sunday roast of c...</td>\n",
       "    </tr>\n",
       "  </tbody>\n",
       "</table>\n",
       "</div>"
      ],
      "text/plain": [
       "   rating                                               text\n",
       "0     4.0  Went on a sunny day for a Sunday roast with fr...\n",
       "1     5.0  I recently visited **The Ship**, a charming sp...\n",
       "2     4.0  Stopped by for a pint and a quick lunch. It's ...\n",
       "3     5.0  A solid pub on the bank of the Thames you can ...\n",
       "4     5.0  Amazing summer place to have sunday roast of c..."
      ]
     },
     "execution_count": 5,
     "metadata": {},
     "output_type": "execute_result"
    }
   ],
   "source": [
    "data = []\n",
    "\n",
    "#loopinh para extrair o rating e a review do cliente\n",
    "for i in range(len(reviews)):\n",
    "    rating = reviews[i].get(\"rating\")\n",
    "    text = reviews[i].get(\"snippet\")\n",
    "\n",
    "    current_review = {\n",
    "        \"rating\": rating,\n",
    "        \"text\": text\n",
    "    }\n",
    "\n",
    "    data.append(current_review)\n",
    "\n",
    "#criação do DataFrame\n",
    "df = pd.DataFrame(data = data)\n",
    "df.head(5)"
   ]
  },
  {
   "cell_type": "code",
   "execution_count": 6,
   "metadata": {},
   "outputs": [
    {
     "data": {
      "text/html": [
       "<div>\n",
       "<style scoped>\n",
       "    .dataframe tbody tr th:only-of-type {\n",
       "        vertical-align: middle;\n",
       "    }\n",
       "\n",
       "    .dataframe tbody tr th {\n",
       "        vertical-align: top;\n",
       "    }\n",
       "\n",
       "    .dataframe thead th {\n",
       "        text-align: right;\n",
       "    }\n",
       "</style>\n",
       "<table border=\"1\" class=\"dataframe\">\n",
       "  <thead>\n",
       "    <tr style=\"text-align: right;\">\n",
       "      <th></th>\n",
       "      <th>Id</th>\n",
       "      <th>Score</th>\n",
       "      <th>Text</th>\n",
       "    </tr>\n",
       "  </thead>\n",
       "  <tbody>\n",
       "    <tr>\n",
       "      <th>0</th>\n",
       "      <td>1</td>\n",
       "      <td>4.0</td>\n",
       "      <td>Went on a sunny day for a Sunday roast with fr...</td>\n",
       "    </tr>\n",
       "    <tr>\n",
       "      <th>1</th>\n",
       "      <td>2</td>\n",
       "      <td>5.0</td>\n",
       "      <td>I recently visited **The Ship**, a charming sp...</td>\n",
       "    </tr>\n",
       "    <tr>\n",
       "      <th>2</th>\n",
       "      <td>3</td>\n",
       "      <td>4.0</td>\n",
       "      <td>Stopped by for a pint and a quick lunch. It's ...</td>\n",
       "    </tr>\n",
       "    <tr>\n",
       "      <th>3</th>\n",
       "      <td>4</td>\n",
       "      <td>5.0</td>\n",
       "      <td>A solid pub on the bank of the Thames you can ...</td>\n",
       "    </tr>\n",
       "    <tr>\n",
       "      <th>4</th>\n",
       "      <td>5</td>\n",
       "      <td>5.0</td>\n",
       "      <td>Amazing summer place to have sunday roast of c...</td>\n",
       "    </tr>\n",
       "    <tr>\n",
       "      <th>...</th>\n",
       "      <td>...</td>\n",
       "      <td>...</td>\n",
       "      <td>...</td>\n",
       "    </tr>\n",
       "    <tr>\n",
       "      <th>103</th>\n",
       "      <td>104</td>\n",
       "      <td>4.0</td>\n",
       "      <td>Nice bar for an Saturday evening. Interior loo...</td>\n",
       "    </tr>\n",
       "    <tr>\n",
       "      <th>104</th>\n",
       "      <td>105</td>\n",
       "      <td>4.0</td>\n",
       "      <td>Outside in the sun on one of the benches on a ...</td>\n",
       "    </tr>\n",
       "    <tr>\n",
       "      <th>105</th>\n",
       "      <td>106</td>\n",
       "      <td>1.0</td>\n",
       "      <td>What is happening? Standing at the till with a...</td>\n",
       "    </tr>\n",
       "    <tr>\n",
       "      <th>106</th>\n",
       "      <td>107</td>\n",
       "      <td>5.0</td>\n",
       "      <td>Oh yea this place is a vibe. Can't wait to com...</td>\n",
       "    </tr>\n",
       "    <tr>\n",
       "      <th>107</th>\n",
       "      <td>108</td>\n",
       "      <td>5.0</td>\n",
       "      <td>Busy riverside historic gastropub. Good choice...</td>\n",
       "    </tr>\n",
       "  </tbody>\n",
       "</table>\n",
       "<p>108 rows × 3 columns</p>\n",
       "</div>"
      ],
      "text/plain": [
       "      Id  Score                                               Text\n",
       "0      1    4.0  Went on a sunny day for a Sunday roast with fr...\n",
       "1      2    5.0  I recently visited **The Ship**, a charming sp...\n",
       "2      3    4.0  Stopped by for a pint and a quick lunch. It's ...\n",
       "3      4    5.0  A solid pub on the bank of the Thames you can ...\n",
       "4      5    5.0  Amazing summer place to have sunday roast of c...\n",
       "..   ...    ...                                                ...\n",
       "103  104    4.0  Nice bar for an Saturday evening. Interior loo...\n",
       "104  105    4.0  Outside in the sun on one of the benches on a ...\n",
       "105  106    1.0  What is happening? Standing at the till with a...\n",
       "106  107    5.0  Oh yea this place is a vibe. Can't wait to com...\n",
       "107  108    5.0  Busy riverside historic gastropub. Good choice...\n",
       "\n",
       "[108 rows x 3 columns]"
      ]
     },
     "execution_count": 6,
     "metadata": {},
     "output_type": "execute_result"
    }
   ],
   "source": [
    "df['text'] = df['text'].apply(lambda x: x.replace('\\n', '')) #aplicação da função map utilizando uma função anônima para tratar os dados\n",
    "df['id'] = df.index + 1\n",
    "df = df.reindex(columns=['id', 'rating', 'text'])\n",
    "reviews = df.rename(columns={'id':'Id', 'rating':'Score', 'text':'Text'})\n",
    "\n",
    "reviews"
   ]
  },
  {
   "cell_type": "code",
   "execution_count": 7,
   "metadata": {},
   "outputs": [],
   "source": [
    "reviews.to_csv(\"the_ship_reviews.csv\", index=False)"
   ]
  }
 ],
 "metadata": {
  "kernelspec": {
   "display_name": "Python 3",
   "language": "python",
   "name": "python3"
  },
  "language_info": {
   "codemirror_mode": {
    "name": "ipython",
    "version": 3
   },
   "file_extension": ".py",
   "mimetype": "text/x-python",
   "name": "python",
   "nbconvert_exporter": "python",
   "pygments_lexer": "ipython3",
   "version": "3.10.12"
  }
 },
 "nbformat": 4,
 "nbformat_minor": 2
}
